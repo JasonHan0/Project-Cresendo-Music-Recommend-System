{
  "nbformat": 4,
  "nbformat_minor": 0,
  "metadata": {
    "colab": {
      "name": "One_folder_ver_Extract_Features_of_Music.ipynb",
      "provenance": [],
      "collapsed_sections": [],
      "background_execution": "on"
    },
    "kernelspec": {
      "name": "python3",
      "display_name": "Python 3"
    },
    "language_info": {
      "name": "python"
    },
    "accelerator": "TPU"
  },
  "cells": [
    {
      "cell_type": "markdown",
      "source": [
        "### 필요한 패키지 임포트"
      ],
      "metadata": {
        "id": "ylM98n1vLbng"
      }
    },
    {
      "cell_type": "code",
      "source": [
        "from google.colab import drive\n",
        "drive.mount('/content/drive')"
      ],
      "metadata": {
        "colab": {
          "base_uri": "https://localhost:8080/"
        },
        "id": "W8fRCofRU-pg",
        "outputId": "17cc06a7-26f3-4828-ddad-2aa4898692bf"
      },
      "execution_count": 1,
      "outputs": [
        {
          "output_type": "stream",
          "name": "stdout",
          "text": [
            "Mounted at /content/drive\n"
          ]
        }
      ]
    },
    {
      "cell_type": "code",
      "execution_count": 2,
      "metadata": {
        "id": "gU7kBipDJUKk"
      },
      "outputs": [],
      "source": [
        "import os\n",
        "import librosa\n",
        "import librosa.display\n",
        "import warnings\n",
        "warnings.filterwarnings('ignore')\n",
        "import itertools\n",
        "import numpy as np\n",
        "import pandas as pd\n",
        "import matplotlib.pyplot as plt\n",
        "from scipy.stats import kurtosis\n",
        "from scipy.stats import skew\n",
        "import csv\n",
        "import time\n",
        "import datetime"
      ]
    },
    {
      "cell_type": "markdown",
      "source": [
        "### 파일 경로 불러오기"
      ],
      "metadata": {
        "id": "4wK2883eLer1"
      }
    },
    {
      "cell_type": "code",
      "source": [
        "# 파일 경로\n",
        "#audio_path = \"다운로드 된 파일 저장된 폴더 경로\"\n",
        "audio_path = \"/content/drive/MyDrive/Dataset/downloads/wav\" # 원본 wav 파일"
      ],
      "metadata": {
        "id": "BvI8ZT7jJcAb"
      },
      "execution_count": 3,
      "outputs": []
    },
    {
      "cell_type": "markdown",
      "source": [
        "### 함수 정의"
      ],
      "metadata": {
        "id": "2v6ACO9mLZ2d"
      }
    },
    {
      "cell_type": "code",
      "source": [
        "def song_names(audio_path):               # audio_path : 음원 파일들의 폴더 경로\n",
        "    files = list(os.listdir(audio_path))\n",
        "\n",
        "    songs = []\n",
        "    paths = []\n",
        "\n",
        "    for f in files:\n",
        "        song = f\n",
        "        path = os.path.join(audio_path, f)\n",
        "        songs.append(song)\n",
        "        paths.append(path)\n",
        "\n",
        "    return songs, paths"
      ],
      "metadata": {
        "id": "17BlN4v-G7UU"
      },
      "execution_count": 4,
      "outputs": []
    },
    {
      "cell_type": "code",
      "source": [
        "songs, paths = song_names(audio_path)"
      ],
      "metadata": {
        "id": "H1xALjnkIXil"
      },
      "execution_count": null,
      "outputs": []
    },
    {
      "cell_type": "code",
      "source": [
        "print(songs[:3], paths[:3])"
      ],
      "metadata": {
        "colab": {
          "base_uri": "https://localhost:8080/"
        },
        "id": "f1qtzujeIdm5",
        "outputId": "5bdd3e01-700a-492d-e898-99d14682ee22"
      },
      "execution_count": null,
      "outputs": [
        {
          "output_type": "stream",
          "name": "stdout",
          "text": [
            "['이 밤-양다일.wav', '희재-성시경.wav', '아니면서-성시경.wav'] ['/content/drive/MyDrive/Dataset/downloads/wav/이 밤-양다일.wav', '/content/drive/MyDrive/Dataset/downloads/wav/희재-성시경.wav', '/content/drive/MyDrive/Dataset/downloads/wav/아니면서-성시경.wav']\n"
          ]
        }
      ]
    },
    {
      "cell_type": "code",
      "source": [
        "# soundwave\n",
        "def soundwave(paths):\n",
        "\n",
        "    audio_files = []\n",
        "    song_name = []\n",
        "\n",
        "    for path in paths:\n",
        "        try:\n",
        "            sn = path.split(\"/\")[-1]\n",
        "            y, sr = librosa.load(path)\n",
        "            y, _ = librosa.effects.trim(y)\n",
        "            song_name.append(sn)\n",
        "            audio_files.append(y)\n",
        "        except ValueError as val:\n",
        "            print(path, val)\n",
        "\n",
        "    return audio_files, song_name, sr               # sr 디폴트 : 22050 / 변경 가능한 sr 수치 : 44100"
      ],
      "metadata": {
        "id": "CihDm_fyKOCM"
      },
      "execution_count": 5,
      "outputs": []
    },
    {
      "cell_type": "code",
      "source": [
        "audio_files, song_name, sr = soundwave(paths[:10])"
      ],
      "metadata": {
        "id": "F6eI3U6yQX-h"
      },
      "execution_count": null,
      "outputs": []
    },
    {
      "cell_type": "code",
      "source": [
        "print(song_name)"
      ],
      "metadata": {
        "colab": {
          "base_uri": "https://localhost:8080/"
        },
        "id": "mXF7UOXQLaMj",
        "outputId": "484ce38c-05b6-486a-8b03-98e6c4ab7ab4"
      },
      "execution_count": null,
      "outputs": [
        {
          "output_type": "stream",
          "name": "stdout",
          "text": [
            "['이 밤-양다일.wav', '희재-성시경.wav', '아니면서-성시경.wav', 'Falling-존박.wav', '화신 (花信)-박효신.wav', '첫째 날 (With 나얼)-Ecobridge.wav', '내려놔요-브라운 아이드 소울.wav', '말꼬리-윤종신.wav', '그리고 그려요-Eye To Eye.wav', '지나간다 (Piano Ver.)-김범수.wav']\n"
          ]
        }
      ]
    },
    {
      "cell_type": "code",
      "source": [
        "# Features\n",
        "def get_features(y, sr):\n",
        "    # Features to concatenate in the final dictionary\n",
        "    features = {'centroid': None, 'roloff': None, 'flux': None, 'rmse': None,\n",
        "                'zcr': None, 'contrast': None, 'bandwidth': None, 'flatness': None, 'chroma_stft': None}\n",
        "    \n",
        "    # Count silence\n",
        "    if 0 < len(y):\n",
        "        y_sound, _ = librosa.effects.trim(y)\n",
        "    features['sample_silence'] = len(y) - len(y_sound)\n",
        "\n",
        "    # Using librosa to calculate the features\n",
        "    features['chroma_stft']=librosa.feature.chroma_stft(y=y, sr=sr).ravel()\n",
        "    features['centroid'] = librosa.feature.spectral_centroid(y, sr=sr).ravel()\n",
        "    features['roloff'] = librosa.feature.spectral_rolloff(y, sr=sr,).ravel()\n",
        "    features['zcr'] = librosa.feature.zero_crossing_rate(y).ravel()\n",
        "    features['rmse'] = librosa.feature.rms(y).ravel()\n",
        "    features['flux'] = librosa.onset.onset_strength(y=y, sr=sr).ravel()\n",
        "    features['contrast'] = librosa.feature.spectral_contrast(y, sr=sr).ravel()\n",
        "    features['bandwidth'] = librosa.feature.spectral_bandwidth(y, sr=sr).ravel()\n",
        "    features['flatness'] = librosa.feature.spectral_flatness(y).ravel()\n",
        "    \n",
        "    # harmony, perceptral treatment (+@ 부분)\n",
        "    harm, perc = librosa.effects.hpss(y)\n",
        "    features['harm'] = harm.ravel()\n",
        "    features['perc'] = perc.ravel()\n",
        "\n",
        "    # MFCC treatment\n",
        "    mfcc = librosa.feature.mfcc(y, sr=sr)   # n_mfcc=20 (default) \n",
        "    for idx, v_mfcc in enumerate(mfcc):\n",
        "        features['mfcc_{}'.format(idx)] = v_mfcc.ravel()\n",
        "        \n",
        "    # Get statistics from the vectors\n",
        "    def get_moments(descriptors):\n",
        "        result = {}\n",
        "        for k, v in descriptors.items():\n",
        "            result['{}_max'.format(k)] = np.max(v)\n",
        "            result['{}_min'.format(k)] = np.min(v)\n",
        "            result['{}_mean'.format(k)] = np.mean(v)\n",
        "            result['{}_std'.format(k)] = np.std(v)\n",
        "            result['{}_kurtosis'.format(k)] = kurtosis(v)\n",
        "            result['{}_skew'.format(k)] = skew(v)\n",
        "        return result\n",
        "    \n",
        "    dict_agg_features = get_moments(features)\n",
        "#    onset_env = librosa.onset.onset_strength(y=audio_file, sr=sr)\n",
        "#    dict_agg_features['tempo'] = librosa.beat.tempo(onset_envelope=onset_env, sr=sr)\n",
        "    dict_agg_features['tempo'] = librosa.beat.tempo(y, sr=sr)[0]\n",
        "    \n",
        "    return dict_agg_features"
      ],
      "metadata": {
        "id": "3gO1oPkiKNFg"
      },
      "execution_count": 6,
      "outputs": []
    },
    {
      "cell_type": "code",
      "source": [
        "# Extract features \n",
        "def final_extraction(dataset_dir=audio_path):\n",
        "    songs, paths = song_names(audio_path)\n",
        "    audio_files, song_name, sr = soundwave(paths)\n",
        "\n",
        "    last_features = []\n",
        "\n",
        "    for audio in audio_files:\n",
        "        features = get_features(audio, sr)\n",
        "        last_features.append(features)\n",
        "\n",
        "    return last_features, song_name"
      ],
      "metadata": {
        "id": "BUBa0GySKUAv"
      },
      "execution_count": 7,
      "outputs": []
    },
    {
      "cell_type": "code",
      "source": [
        "%%time\n",
        "\n",
        "last_features, song_name = final_extraction()"
      ],
      "metadata": {
        "id": "2AHG_hGBCc1s"
      },
      "execution_count": null,
      "outputs": []
    },
    {
      "cell_type": "code",
      "source": [
        "# len(last_features), len(song_name)"
      ],
      "metadata": {
        "id": "LiehxaX4xbrh"
      },
      "execution_count": null,
      "outputs": []
    },
    {
      "cell_type": "code",
      "source": [
        "def df_all_features(last_features, songs):\n",
        "    df_features = pd.DataFrame(last_features)\n",
        "    df_songs = pd.DataFrame(song_name, columns=['song'])\n",
        "\n",
        "    return pd.concat([df_songs, df_features], axis=1)"
      ],
      "metadata": {
        "id": "SCy10XZYKb2B"
      },
      "execution_count": null,
      "outputs": []
    },
    {
      "cell_type": "code",
      "source": [
        "df_all_features = df_all_features(last_features, song_name)\n",
        "df_all_features.head()"
      ],
      "metadata": {
        "id": "vq1VAVnkxktL"
      },
      "execution_count": null,
      "outputs": []
    },
    {
      "cell_type": "code",
      "source": [
        "# export the data\n",
        "filename = datetime.datetime.now().strftime(\"%Y%m%d-%H%M%S\")\n",
        "df_all_features.to_csv(f'/content/drive/Othercomputers/내 노트북/Project/Models/Music_Genre_Classification_Recommendation/Feature_Result_csv/{filename}.csv')"
      ],
      "metadata": {
        "id": "R8NH-80kx0Lw"
      },
      "execution_count": null,
      "outputs": []
    },
    {
      "cell_type": "code",
      "source": [
        "# import the data\n",
        "df_all_features = pd.read_csv(f'/content/drive/Othercomputers/내 노트북/Project/Models/Music_Genre_Classification_Recommendation/Feature_Result_csv/{filename}.csv', index_col = 0)"
      ],
      "metadata": {
        "id": "LbF7T_SCx8JS"
      },
      "execution_count": null,
      "outputs": []
    },
    {
      "cell_type": "code",
      "source": [
        "df_all_features"
      ],
      "metadata": {
        "id": "voyheesAyCQr"
      },
      "execution_count": null,
      "outputs": []
    },
    {
      "cell_type": "markdown",
      "source": [
        "### 특정값 포함하는 데이터 추출 (데이터 분포 확인용)"
      ],
      "metadata": {
        "id": "LQMBUTQ54wxG"
      }
    },
    {
      "cell_type": "code",
      "source": [
        "contains_metal = df_all_features['song'].str.contains(\"metal\")\n",
        "subset_df = df_all_features[contains_metal]"
      ],
      "metadata": {
        "id": "3IQtRuMX1XOo"
      },
      "execution_count": null,
      "outputs": []
    },
    {
      "cell_type": "code",
      "source": [
        "subset_df['song'].count()"
      ],
      "metadata": {
        "colab": {
          "base_uri": "https://localhost:8080/"
        },
        "id": "TyyhVc893iXy",
        "outputId": "b150b9c2-44ad-4adf-a47b-56287fd3d4c2"
      },
      "execution_count": null,
      "outputs": [
        {
          "output_type": "execute_result",
          "data": {
            "text/plain": [
              "77"
            ]
          },
          "metadata": {},
          "execution_count": 57
        }
      ]
    }
  ]
}