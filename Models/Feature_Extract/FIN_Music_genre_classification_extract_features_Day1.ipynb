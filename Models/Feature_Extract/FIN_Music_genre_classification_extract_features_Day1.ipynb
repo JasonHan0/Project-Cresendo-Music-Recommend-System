{
  "cells": [
    {
      "cell_type": "code",
      "execution_count": 1,
      "metadata": {
        "id": "V81BRcHWSHnQ"
      },
      "outputs": [],
      "source": [
        "import os\n",
        "import librosa\n",
        "import librosa.display\n",
        "import warnings\n",
        "warnings.filterwarnings('ignore')\n",
        "import itertools\n",
        "import numpy as np\n",
        "import pandas as pd\n",
        "import matplotlib.pyplot as plt\n",
        "from scipy.stats import kurtosis\n",
        "from scipy.stats import skew\n",
        "import csv"
      ]
    },
    {
      "cell_type": "code",
      "execution_count": 2,
      "metadata": {
        "id": "myJDZfPIRmJK"
      },
      "outputs": [],
      "source": [
        "# 파일 경로\n",
        "# audio_path = \"/content/drive/Othercomputers/내 노트북/Project/Dataset/songs/download/classic/converted\"\n",
        "audio_path = \"/content/drive/Othercomputers/내 노트북/Project/Dataset/songs/download/converted/2022-03-21_\""
      ]
    },
    {
      "cell_type": "code",
      "execution_count": 3,
      "metadata": {
        "id": "5UThmkdCRw4r"
      },
      "outputs": [],
      "source": [
        "def song_names(audio_path):                      # audio_path : 음원 파일들의 폴더 경로\n",
        "    files = list(os.listdir(f'{audio_path}'))\n",
        "\n",
        "    songs = []\n",
        "    paths = []\n",
        "\n",
        "    for file in files:\n",
        "        song = f'{file}'\n",
        "        path = f'{audio_path}/{file}'\n",
        "        songs.append(song)\n",
        "        paths.append(path)\n",
        "\n",
        "    return songs, paths"
      ]
    },
    {
      "cell_type": "code",
      "execution_count": 4,
      "metadata": {
        "id": "S0cq5cGhRziV"
      },
      "outputs": [],
      "source": [
        "def soundwave(paths):\n",
        "    audio_files = []\n",
        "    song_name = []\n",
        "\n",
        "    for path in paths:\n",
        "        try:\n",
        "            p = path.split(\"/\")[-1]\n",
        "            y, sr = librosa.load(path, duration = 30)\n",
        "            y, _ = librosa.effects.trim(y)\n",
        "            song_name.append(p)\n",
        "            audio_files.append(y)\n",
        "\n",
        "        except ValueError as val:\n",
        "            print(path, val)\n",
        "\n",
        "    return audio_files, song_name, sr # sr 디폴트 : 22050 / 변경 가능한 sr 수치 : 44100"
      ]
    },
    {
      "cell_type": "code",
      "execution_count": 5,
      "metadata": {
        "id": "WgzXy4FDR0Iv"
      },
      "outputs": [],
      "source": [
        "def get_features(y, sr):\n",
        "    # Features to concatenate in the final dictionary\n",
        "    features = {'centroid': None, 'roloff': None, 'flux': None, 'rmse': None,\n",
        "                'zcr': None, 'contrast': None, 'bandwidth': None, 'flatness': None, 'chroma_stft': None}\n",
        "    \n",
        "    # Count silence\n",
        "    if 0 < len(y):\n",
        "        y_sound, _ = librosa.effects.trim(y)\n",
        "    features['sample_silence'] = len(y) - len(y_sound)\n",
        "\n",
        "    # Using librosa to calculate the features\n",
        "    features['chroma_stft']=librosa.feature.chroma_stft(y=y, sr=sr).ravel()\n",
        "    features['centroid'] = librosa.feature.spectral_centroid(y, sr=sr).ravel()\n",
        "    features['roloff'] = librosa.feature.spectral_rolloff(y, sr=sr,).ravel()\n",
        "    features['zcr'] = librosa.feature.zero_crossing_rate(y).ravel()\n",
        "    features['rmse'] = librosa.feature.rms(y).ravel()\n",
        "    features['flux'] = librosa.onset.onset_strength(y=y, sr=sr).ravel()\n",
        "    features['contrast'] = librosa.feature.spectral_contrast(y, sr=sr).ravel()\n",
        "    features['bandwidth'] = librosa.feature.spectral_bandwidth(y, sr=sr).ravel()\n",
        "    features['flatness'] = librosa.feature.spectral_flatness(y).ravel()\n",
        "    \n",
        "    # harmony, perceptral treatment (+@ 부분)\n",
        "    harm, perc = librosa.effects.hpss(y)\n",
        "    features['harm'] = harm.ravel()\n",
        "    features['perc'] = perc.ravel()\n",
        "\n",
        "    # MFCC treatment\n",
        "    mfcc = librosa.feature.mfcc(y, sr=sr)   # n_mfcc=20 (default) \n",
        "    for idx, v_mfcc in enumerate(mfcc):\n",
        "        features['mfcc_{}'.format(idx)] = v_mfcc.ravel()\n",
        "        \n",
        "    # Get statistics from the vectors\n",
        "    def get_moments(descriptors):\n",
        "        result = {}\n",
        "        for k, v in descriptors.items():\n",
        "            result['{}_max'.format(k)] = np.max(v)\n",
        "            result['{}_min'.format(k)] = np.min(v)\n",
        "            result['{}_mean'.format(k)] = np.mean(v)\n",
        "            result['{}_std'.format(k)] = np.std(v)\n",
        "            result['{}_kurtosis'.format(k)] = kurtosis(v)\n",
        "            result['{}_skew'.format(k)] = skew(v)\n",
        "        return result\n",
        "    \n",
        "    dict_agg_features = get_moments(features)\n",
        "#    onset_env = librosa.onset.onset_strength(y=audio_file, sr=sr)\n",
        "#    dict_agg_features['tempo'] = librosa.beat.tempo(onset_envelope=onset_env, sr=sr)\n",
        "    dict_agg_features['tempo'] = librosa.beat.tempo(y, sr=sr)[0]\n",
        "    \n",
        "    return dict_agg_features"
      ]
    },
    {
      "cell_type": "code",
      "execution_count": 6,
      "metadata": {
        "id": "cWLhy8N2R36E"
      },
      "outputs": [],
      "source": [
        "def final_extraction(dataset_dir=audio_path):\n",
        "#    genres = ['blues', 'classical', 'country', 'disco', 'hiphop', 'jazz', 'metal', 'pop', 'reggae', 'rock']\n",
        "    last_features=[]\n",
        "\n",
        "    songs, paths = song_names(audio_path)\n",
        "    audio_files, song_name, sr = soundwave(paths)\n",
        "\n",
        "    for audio in audio_files:\n",
        "        features = get_features(audio, sr)\n",
        "        last_features.append(features)\n",
        "\n",
        "    return last_features, songs"
      ]
    },
    {
      "cell_type": "code",
      "source": [
        "%%time\n",
        "\n",
        "last_features, songs = final_extraction()"
      ],
      "metadata": {
        "id": "65CrtpNmZAY9"
      },
      "execution_count": null,
      "outputs": []
    },
    {
      "cell_type": "code",
      "source": [
        "def df_all_features(last_features, songs):\n",
        "    df_features = pd.DataFrame(last_features)\n",
        "    df_songs = pd.DataFrame(songs, columns=['song'])\n",
        "\n",
        "    return pd.concat([df_songs, df_features], axis=1)"
      ],
      "metadata": {
        "id": "hGOU9Pj_kVqx"
      },
      "execution_count": null,
      "outputs": []
    },
    {
      "cell_type": "code",
      "source": [
        "df_all_features = df_all_features(last_features, songs)\n",
        "df_all_features.head()"
      ],
      "metadata": {
        "id": "ep80UFmGkwWa"
      },
      "execution_count": null,
      "outputs": []
    },
    {
      "cell_type": "code",
      "execution_count": null,
      "metadata": {
        "id": "PSb-i8SIR9oF"
      },
      "outputs": [],
      "source": [
        "# export the data to a csv file\n",
        "df_all_features.to_csv('/content/drive/Othercomputers/내 노트북/Project/Models/Music_Genre_Classification_Recommendation/Feature_Result_csv/feature_result.csv')"
      ]
    },
    {
      "cell_type": "code",
      "execution_count": null,
      "metadata": {
        "id": "TsWrVMpTR_Sg"
      },
      "outputs": [],
      "source": [
        "# import the data\n",
        "df_all_features = pd.read_csv('/content/drive/Othercomputers/내 노트북/Project/Models/Music_Genre_Classification_Recommendation/Feature_Result_csv/feature_result.csv', index_col = 0)"
      ]
    },
    {
      "cell_type": "code",
      "execution_count": null,
      "metadata": {
        "id": "bZbEk3pBSA4t"
      },
      "outputs": [],
      "source": [
        "df_all_features"
      ]
    },
    {
      "cell_type": "markdown",
      "metadata": {
        "id": "9JCrgFZRs6U5"
      },
      "source": [
        "### 시도해봐야 하는 것\n",
        "- 에러 로그 찍기\n",
        "- df에 곡명 컬럼 추가하기"
      ]
    },
    {
      "cell_type": "code",
      "execution_count": null,
      "metadata": {
        "id": "Go_jwHqzSBe4"
      },
      "outputs": [],
      "source": [
        "# list(df_features.columns)"
      ]
    }
  ],
  "metadata": {
    "colab": {
      "collapsed_sections": [],
      "name": "FIN_Music_genre_classification_extract_features_Day1.ipynb",
      "provenance": [],
      "background_execution": "on"
    },
    "kernelspec": {
      "display_name": "Python 3",
      "name": "python3"
    },
    "language_info": {
      "name": "python"
    }
  },
  "nbformat": 4,
  "nbformat_minor": 0
}